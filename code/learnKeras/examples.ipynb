{
 "cells": [
  {
   "cell_type": "markdown",
   "metadata": {},
   "source": [
    "**Multilayer Perceptron (MLP) for multi-class softmax classification:**"
   ]
  },
  {
   "cell_type": "code",
   "execution_count": 1,
   "metadata": {
    "scrolled": true
   },
   "outputs": [
    {
     "name": "stderr",
     "output_type": "stream",
     "text": [
      "Using TensorFlow backend.\n"
     ]
    },
    {
     "name": "stdout",
     "output_type": "stream",
     "text": [
      "WARNING:tensorflow:From /home/riteshk/.local/lib/python3.5/site-packages/tensorflow/python/framework/op_def_library.py:263: colocate_with (from tensorflow.python.framework.ops) is deprecated and will be removed in a future version.\n",
      "Instructions for updating:\n",
      "Colocations handled automatically by placer.\n",
      "WARNING:tensorflow:From /home/riteshk/.local/lib/python3.5/site-packages/keras/backend/tensorflow_backend.py:3445: calling dropout (from tensorflow.python.ops.nn_ops) with keep_prob is deprecated and will be removed in a future version.\n",
      "Instructions for updating:\n",
      "Please use `rate` instead of `keep_prob`. Rate should be set to `rate = 1 - keep_prob`.\n",
      "WARNING:tensorflow:From /home/riteshk/.local/lib/python3.5/site-packages/tensorflow/python/ops/math_ops.py:3066: to_int32 (from tensorflow.python.ops.math_ops) is deprecated and will be removed in a future version.\n",
      "Instructions for updating:\n",
      "Use tf.cast instead.\n",
      "Epoch 1/20\n",
      "1000/1000 [==============================] - 0s 172us/step - loss: 2.3785 - acc: 0.0960\n",
      "Epoch 2/20\n",
      "1000/1000 [==============================] - 0s 11us/step - loss: 2.3506 - acc: 0.1060\n",
      "Epoch 3/20\n",
      "1000/1000 [==============================] - 0s 10us/step - loss: 2.3456 - acc: 0.1160\n",
      "Epoch 4/20\n",
      "1000/1000 [==============================] - 0s 10us/step - loss: 2.3300 - acc: 0.1110\n",
      "Epoch 5/20\n",
      "1000/1000 [==============================] - 0s 9us/step - loss: 2.3156 - acc: 0.1020\n",
      "Epoch 6/20\n",
      "1000/1000 [==============================] - 0s 10us/step - loss: 2.3208 - acc: 0.1110\n",
      "Epoch 7/20\n",
      "1000/1000 [==============================] - 0s 9us/step - loss: 2.3179 - acc: 0.1020\n",
      "Epoch 8/20\n",
      "1000/1000 [==============================] - 0s 10us/step - loss: 2.3029 - acc: 0.1040\n",
      "Epoch 9/20\n",
      "1000/1000 [==============================] - 0s 9us/step - loss: 2.3173 - acc: 0.0820\n",
      "Epoch 10/20\n",
      "1000/1000 [==============================] - 0s 10us/step - loss: 2.3055 - acc: 0.0990\n",
      "Epoch 11/20\n",
      "1000/1000 [==============================] - 0s 10us/step - loss: 2.3041 - acc: 0.1260\n",
      "Epoch 12/20\n",
      "1000/1000 [==============================] - 0s 11us/step - loss: 2.3017 - acc: 0.1030\n",
      "Epoch 13/20\n",
      "1000/1000 [==============================] - 0s 10us/step - loss: 2.2980 - acc: 0.1140\n",
      "Epoch 14/20\n",
      "1000/1000 [==============================] - 0s 10us/step - loss: 2.3119 - acc: 0.1090\n",
      "Epoch 15/20\n",
      "1000/1000 [==============================] - 0s 10us/step - loss: 2.2998 - acc: 0.1350\n",
      "Epoch 16/20\n",
      "1000/1000 [==============================] - 0s 9us/step - loss: 2.3000 - acc: 0.1090\n",
      "Epoch 17/20\n",
      "1000/1000 [==============================] - 0s 10us/step - loss: 2.3083 - acc: 0.1150\n",
      "Epoch 18/20\n",
      "1000/1000 [==============================] - 0s 9us/step - loss: 2.3003 - acc: 0.1190\n",
      "Epoch 19/20\n",
      "1000/1000 [==============================] - 0s 10us/step - loss: 2.3020 - acc: 0.1270\n",
      "Epoch 20/20\n",
      "1000/1000 [==============================] - 0s 9us/step - loss: 2.2964 - acc: 0.1230\n",
      "100/100 [==============================] - 0s 318us/step\n",
      "[2.306582450866699, 0.07000000029802322]\n"
     ]
    }
   ],
   "source": [
    "import keras\n",
    "from keras.models import Sequential\n",
    "from keras.layers import Dense, Dropout, Activation\n",
    "from keras.optimizers import SGD\n",
    "\n",
    "# Generate dummy data\n",
    "import numpy as np\n",
    "x_train = np.random.random((1000, 20))\n",
    "y_train = keras.utils.to_categorical(np.random.randint(10, size=(1000, 1)), num_classes=10)\n",
    "x_test = np.random.random((100, 20))\n",
    "y_test = keras.utils.to_categorical(np.random.randint(10, size=(100, 1)), num_classes=10)\n",
    "\n",
    "model = Sequential()\n",
    "# Dense(64) is a fully-connected layer with 64 hidden units.\n",
    "# in the first layer, you must specify the expected input data shape:\n",
    "# here, 20-dimensional vectors.\n",
    "model.add(Dense(64, activation='relu', input_dim=20))\n",
    "model.add(Dropout(0.5))\n",
    "model.add(Dense(64, activation='relu'))\n",
    "model.add(Dropout(0.5))\n",
    "model.add(Dense(10, activation='softmax'))\n",
    "\n",
    "sgd = SGD(lr=0.01, decay=1e-6, momentum=0.9, nesterov=True)\n",
    "model.compile(loss='categorical_crossentropy',\n",
    "              optimizer=sgd,\n",
    "              metrics=['accuracy'])\n",
    "\n",
    "model.fit(x_train, y_train,\n",
    "          epochs=20,\n",
    "          batch_size=128)\n",
    "score = model.evaluate(x_test, y_test, batch_size=128)\n",
    "print(score)"
   ]
  },
  {
   "cell_type": "markdown",
   "metadata": {},
   "source": [
    "**MLP for binary classification:**"
   ]
  },
  {
   "cell_type": "code",
   "execution_count": 2,
   "metadata": {
    "scrolled": true
   },
   "outputs": [
    {
     "name": "stdout",
     "output_type": "stream",
     "text": [
      "Epoch 1/20\n",
      "1000/1000 [==============================] - 0s 187us/step - loss: 0.7101 - acc: 0.4860\n",
      "Epoch 2/20\n",
      "1000/1000 [==============================] - 0s 12us/step - loss: 0.6924 - acc: 0.5330\n",
      "Epoch 3/20\n",
      "1000/1000 [==============================] - 0s 10us/step - loss: 0.6979 - acc: 0.5060\n",
      "Epoch 4/20\n",
      "1000/1000 [==============================] - 0s 10us/step - loss: 0.6951 - acc: 0.5250\n",
      "Epoch 5/20\n",
      "1000/1000 [==============================] - 0s 9us/step - loss: 0.6988 - acc: 0.5050\n",
      "Epoch 6/20\n",
      "1000/1000 [==============================] - 0s 10us/step - loss: 0.6948 - acc: 0.5110\n",
      "Epoch 7/20\n",
      "1000/1000 [==============================] - 0s 10us/step - loss: 0.6990 - acc: 0.4990\n",
      "Epoch 8/20\n",
      "1000/1000 [==============================] - 0s 15us/step - loss: 0.6975 - acc: 0.5050\n",
      "Epoch 9/20\n",
      "1000/1000 [==============================] - 0s 9us/step - loss: 0.6885 - acc: 0.5190\n",
      "Epoch 10/20\n",
      "1000/1000 [==============================] - 0s 9us/step - loss: 0.6981 - acc: 0.5020\n",
      "Epoch 11/20\n",
      "1000/1000 [==============================] - 0s 11us/step - loss: 0.6990 - acc: 0.5130\n",
      "Epoch 12/20\n",
      "1000/1000 [==============================] - 0s 10us/step - loss: 0.6932 - acc: 0.5070\n",
      "Epoch 13/20\n",
      "1000/1000 [==============================] - 0s 9us/step - loss: 0.6910 - acc: 0.5260\n",
      "Epoch 14/20\n",
      "1000/1000 [==============================] - 0s 9us/step - loss: 0.6941 - acc: 0.5210\n",
      "Epoch 15/20\n",
      "1000/1000 [==============================] - 0s 10us/step - loss: 0.6877 - acc: 0.5610\n",
      "Epoch 16/20\n",
      "1000/1000 [==============================] - 0s 10us/step - loss: 0.6913 - acc: 0.5380\n",
      "Epoch 17/20\n",
      "1000/1000 [==============================] - 0s 10us/step - loss: 0.6871 - acc: 0.5620\n",
      "Epoch 18/20\n",
      "1000/1000 [==============================] - 0s 8us/step - loss: 0.6925 - acc: 0.5130\n",
      "Epoch 19/20\n",
      "1000/1000 [==============================] - 0s 9us/step - loss: 0.6857 - acc: 0.5540\n",
      "Epoch 20/20\n",
      "1000/1000 [==============================] - 0s 9us/step - loss: 0.6895 - acc: 0.5290\n",
      "100/100 [==============================] - 0s 407us/step\n",
      "[0.695976972579956, 0.47999998927116394]\n"
     ]
    }
   ],
   "source": [
    "import numpy as np\n",
    "from keras.models import Sequential\n",
    "from keras.layers import Dense, Dropout\n",
    "\n",
    "# Generate dummy data\n",
    "x_train = np.random.random((1000, 20))\n",
    "y_train = np.random.randint(2, size=(1000, 1))\n",
    "x_test = np.random.random((100, 20))\n",
    "y_test = np.random.randint(2, size=(100, 1))\n",
    "\n",
    "model = Sequential()\n",
    "model.add(Dense(64, input_dim=20, activation='relu'))\n",
    "model.add(Dropout(0.5))\n",
    "model.add(Dense(64, activation='relu'))\n",
    "model.add(Dropout(0.5))\n",
    "model.add(Dense(1, activation='sigmoid'))\n",
    "\n",
    "model.compile(loss='binary_crossentropy',\n",
    "              optimizer='rmsprop',\n",
    "              metrics=['accuracy'])\n",
    "\n",
    "model.fit(x_train, y_train,\n",
    "          epochs=20,\n",
    "          batch_size=128)\n",
    "score = model.evaluate(x_test, y_test, batch_size=128)\n",
    "print(score)"
   ]
  },
  {
   "cell_type": "markdown",
   "metadata": {},
   "source": [
    "**VGG-like covnet:**"
   ]
  },
  {
   "cell_type": "code",
   "execution_count": 3,
   "metadata": {
    "scrolled": true
   },
   "outputs": [
    {
     "name": "stdout",
     "output_type": "stream",
     "text": [
      "Epoch 1/10\n",
      "100/100 [==============================] - 2s 23ms/step - loss: 2.3410\n",
      "Epoch 2/10\n",
      "100/100 [==============================] - 2s 19ms/step - loss: 2.3141\n",
      "Epoch 3/10\n",
      "100/100 [==============================] - 2s 19ms/step - loss: 2.3250\n",
      "Epoch 4/10\n",
      "100/100 [==============================] - 2s 19ms/step - loss: 2.2526\n",
      "Epoch 5/10\n",
      "100/100 [==============================] - 2s 19ms/step - loss: 2.2707\n",
      "Epoch 6/10\n",
      "100/100 [==============================] - 2s 19ms/step - loss: 2.2656\n",
      "Epoch 7/10\n",
      "100/100 [==============================] - 2s 19ms/step - loss: 2.2629\n",
      "Epoch 8/10\n",
      "100/100 [==============================] - 2s 19ms/step - loss: 2.2776\n",
      "Epoch 9/10\n",
      "100/100 [==============================] - 2s 19ms/step - loss: 2.2598\n",
      "Epoch 10/10\n",
      "100/100 [==============================] - 2s 19ms/step - loss: 2.2660\n",
      "20/20 [==============================] - 0s 8ms/step\n",
      "2.3269028663635254\n"
     ]
    }
   ],
   "source": [
    "import numpy as np\n",
    "import keras\n",
    "from keras.models import Sequential\n",
    "from keras.layers import Dense, Dropout, Flatten\n",
    "from keras.layers import Conv2D, MaxPooling2D\n",
    "from keras.optimizers import SGD\n",
    "\n",
    "# Generate dummy data\n",
    "x_train = np.random.random((100, 100, 100, 3))\n",
    "y_train = keras.utils.to_categorical(np.random.randint(10, size=(100, 1)), num_classes=10)\n",
    "x_test = np.random.random((20, 100, 100, 3))\n",
    "y_test = keras.utils.to_categorical(np.random.randint(10, size=(20, 1)), num_classes=10)\n",
    "\n",
    "model = Sequential()\n",
    "# input: 100x100 images with 3 channels -> (100, 100, 3) tensors.\n",
    "# this applies 32 convolution filters of size 3x3 each.\n",
    "model.add(Conv2D(32, (3, 3), activation='relu', input_shape=(100, 100, 3)))\n",
    "model.add(Conv2D(32, (3, 3), activation='relu'))\n",
    "model.add(MaxPooling2D(pool_size=(2, 2)))\n",
    "model.add(Dropout(0.25))\n",
    "\n",
    "model.add(Conv2D(64, (3, 3), activation='relu'))\n",
    "model.add(Conv2D(64, (3, 3), activation='relu'))\n",
    "model.add(MaxPooling2D(pool_size=(2, 2)))\n",
    "model.add(Dropout(0.25))\n",
    "\n",
    "model.add(Flatten())\n",
    "model.add(Dense(256, activation='relu'))\n",
    "model.add(Dropout(0.5))\n",
    "model.add(Dense(10, activation='softmax'))\n",
    "\n",
    "sgd = SGD(lr=0.01, decay=1e-6, momentum=0.9, nesterov=True)\n",
    "model.compile(loss='categorical_crossentropy', optimizer=sgd)\n",
    "\n",
    "model.fit(x_train, y_train, batch_size=32, epochs=10)\n",
    "score = model.evaluate(x_test, y_test, batch_size=32)\n",
    "print(score)"
   ]
  },
  {
   "cell_type": "markdown",
   "metadata": {},
   "source": [
    "**Stacked LSTM for sequence classification:**"
   ]
  },
  {
   "cell_type": "code",
   "execution_count": 4,
   "metadata": {
    "scrolled": true
   },
   "outputs": [
    {
     "name": "stdout",
     "output_type": "stream",
     "text": [
      "Train on 1000 samples, validate on 100 samples\n",
      "Epoch 1/5\n",
      "1000/1000 [==============================] - 2s 2ms/step - loss: 11.5560 - acc: 0.0990 - val_loss: 11.6489 - val_acc: 0.1100\n",
      "Epoch 2/5\n",
      "1000/1000 [==============================] - 0s 147us/step - loss: 11.5546 - acc: 0.1220 - val_loss: 11.6510 - val_acc: 0.0800\n",
      "Epoch 3/5\n",
      "1000/1000 [==============================] - 0s 163us/step - loss: 11.5542 - acc: 0.1010 - val_loss: 11.6508 - val_acc: 0.0500\n",
      "Epoch 4/5\n",
      "1000/1000 [==============================] - 0s 175us/step - loss: 11.5539 - acc: 0.1070 - val_loss: 11.6485 - val_acc: 0.0900\n",
      "Epoch 5/5\n",
      "1000/1000 [==============================] - 0s 164us/step - loss: 11.5535 - acc: 0.1160 - val_loss: 11.6498 - val_acc: 0.1300\n",
      "100/100 [==============================] - 0s 167us/step\n",
      "[11.649841499328613, 0.13]\n"
     ]
    }
   ],
   "source": [
    "from keras.models import Sequential\n",
    "from keras.layers import LSTM, Dense\n",
    "import numpy as np\n",
    "\n",
    "data_dim = 16\n",
    "timesteps = 8\n",
    "num_classes = 10\n",
    "\n",
    "# expected input data shape: (batch_size, timesteps, data_dim)\n",
    "model = Sequential()\n",
    "model.add(LSTM(32, return_sequences=True,\n",
    "               input_shape=(timesteps, data_dim)))  # returns a sequence of vectors of dimension 32\n",
    "model.add(LSTM(32, return_sequences=True))  # returns a sequence of vectors of dimension 32\n",
    "model.add(LSTM(32))  # return a single vector of dimension 32\n",
    "model.add(Dense(10, activation='softmax'))\n",
    "\n",
    "model.compile(loss='categorical_crossentropy',\n",
    "              optimizer='rmsprop',\n",
    "              metrics=['accuracy'])\n",
    "\n",
    "# Generate dummy training data\n",
    "x_train = np.random.random((1000, timesteps, data_dim))\n",
    "y_train = np.random.random((1000, num_classes))\n",
    "\n",
    "# Generate dummy validation data\n",
    "x_val = np.random.random((100, timesteps, data_dim))\n",
    "y_val = np.random.random((100, num_classes))\n",
    "\n",
    "model.fit(x_train, y_train,\n",
    "          batch_size=64, epochs=5,\n",
    "          validation_data=(x_val, y_val))\n",
    "score = model.evaluate(x_val, y_val, batch_size=16)\n",
    "print(score)"
   ]
  },
  {
   "cell_type": "code",
   "execution_count": null,
   "metadata": {},
   "outputs": [],
   "source": []
  }
 ],
 "metadata": {
  "kernelspec": {
   "display_name": "Python 3",
   "language": "python",
   "name": "python3"
  },
  "language_info": {
   "codemirror_mode": {
    "name": "ipython",
    "version": 3
   },
   "file_extension": ".py",
   "mimetype": "text/x-python",
   "name": "python",
   "nbconvert_exporter": "python",
   "pygments_lexer": "ipython3",
   "version": "3.5.2"
  }
 },
 "nbformat": 4,
 "nbformat_minor": 2
}
